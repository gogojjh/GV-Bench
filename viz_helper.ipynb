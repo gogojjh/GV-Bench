{
 "cells": [
  {
   "cell_type": "markdown",
   "metadata": {},
   "source": [
    "# Visualize a Query with its Candidates"
   ]
  },
  {
   "cell_type": "markdown",
   "metadata": {},
   "source": [
    "- Night sequence with qImage = day0/1418132441421073.jpg"
   ]
  },
  {
   "cell_type": "markdown",
   "metadata": {},
   "source": [
    "Step1: Find all the pairs with query day0/1418132441421073.jpg"
   ]
  },
  {
   "cell_type": "code",
   "execution_count": 16,
   "metadata": {},
   "outputs": [
    {
     "name": "stdout",
     "output_type": "stream",
     "text": [
      "Query image: ['day0/1418132441421073.jpg', 'day0/1418132441421073.jpg', 'day0/1418132441421073.jpg', 'day0/1418132441421073.jpg', 'day0/1418132441421073.jpg', 'day0/1418132441421073.jpg', 'day0/1418132441421073.jpg', 'day0/1418132441421073.jpg', 'day0/1418132441421073.jpg', 'day0/1418132441421073.jpg', 'day0/1418132441421073.jpg', 'day0/1418132441421073.jpg', 'day0/1418132441421073.jpg', 'day0/1418132441421073.jpg', 'day0/1418132441421073.jpg', 'day0/1418132441421073.jpg', 'day0/1418132441421073.jpg', 'day0/1418132441421073.jpg', 'day0/1418132441421073.jpg', 'day0/1418132441421073.jpg']\n",
      "Query image index: [0, 688, 1376, 4128, 4816, 6192, 9632, 10320, 11008, 13072, 17200, 18576, 20640, 23392, 24080, 28208, 29584, 30960, 33024, 33712]\n",
      "Retrieved images: ['night0/1418756576192359.jpg', 'night0/1418755602012238.jpg', 'night0/1418755840729721.jpg', 'night0/1418755601637291.jpg', 'night0/1418755926843010.jpg', 'night0/1418757242852283.jpg', 'night0/1418755601449815.jpg', 'night0/1418755599887527.jpg', 'night0/1418757158988581.jpg', 'night0/1418755600075003.jpg', 'night0/1418757244164607.jpg', 'night0/1418757238165415.jpg', 'night0/1418755975273923.jpg', 'night0/1418756937393475.jpg', 'night0/1418755904033611.jpg', 'night0/1418755976273789.jpg', 'night0/1418757243414708.jpg', 'night0/1418755976523753.jpg', 'night0/1418757240602586.jpg', 'night0/1418755601824765.jpg']\n",
      "Probabilities: [0.0, 0.13969335604770017, 0.0, 0.16013628620102216, 0.0, 0.0, 0.18228279386712096, 0.131175468483816, 0.0, 0.13969335604770017, 0.0, 0.0, 0.0, 0.0, 0.0, 0.0, 0.0, 0.0, 0.0, 0.16695059625212946]\n",
      "Labels: [0, 0, 0, 1, 0, 0, 1, 1, 0, 1, 0, 0, 0, 0, 0, 0, 0, 0, 0, 1]\n"
     ]
    }
   ],
   "source": [
    "import numpy as np\n",
    "\n",
    "log = np.load('dataset/exps/night_superpoint_max_superglue.npy', allow_pickle=True).item()\n",
    "qImages, rImages, probs, labels = log['qImages'], log['rImages'], log['prob'], log['gt']\n",
    "qImage = 'day0/1418132441421073.jpg'\n",
    "# print(qImages)\n",
    "idx = [i for i, x in enumerate(qImages) if x == qImage]\n",
    "qImages = [qImages[i] for i in idx]\n",
    "rImages = [rImages[i] for i in idx]\n",
    "probs = [probs[i] for i in idx]\n",
    "labels = [labels[i] for i in idx]\n",
    "print('Query image index:', idx)\n",
    "print('Retrieved images:', rImages)\n",
    "print('Probabilities:', probs)\n",
    "print('Labels:', labels)"
   ]
  },
  {
   "cell_type": "code",
   "execution_count": null,
   "metadata": {},
   "outputs": [],
   "source": [
    "qImage = 'day0/1418132441421073.jpg'\n"
   ]
  }
 ],
 "metadata": {
  "kernelspec": {
   "display_name": "bench_test",
   "language": "python",
   "name": "python3"
  },
  "language_info": {
   "codemirror_mode": {
    "name": "ipython",
    "version": 3
   },
   "file_extension": ".py",
   "mimetype": "text/x-python",
   "name": "python",
   "nbconvert_exporter": "python",
   "pygments_lexer": "ipython3",
   "version": "3.8.18"
  },
  "orig_nbformat": 4
 },
 "nbformat": 4,
 "nbformat_minor": 2
}
