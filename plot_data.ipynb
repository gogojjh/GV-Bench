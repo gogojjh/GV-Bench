{
 "cells": [
  {
   "cell_type": "code",
   "execution_count": null,
   "metadata": {},
   "outputs": [],
   "source": [
    "import pandas as pd\n",
    "from matplotlib import pyplot as plt\n",
    "df = pd.read_csv('assets/tables/loftr-season-hard.csv')\n",
    "cols = df[['inliers', 'label']].to_numpy()\n",
    "plt.rcParams['text.usetex'] = True\n",
    "# font times new roman\n",
    "# font bold\n",
    "plt.rcParams['font.weight'] = 'bold'\n",
    "plt.rcParams['font.family'] = 'Arial'\n",
    "# font size 10\n",
    "plt.rcParams['font.size'] = 12\n",
    "plt.figure(figsize=(4, 2.5))\n",
    "col0 = cols[cols[:,1]==0]\n",
    "col1 = cols[cols[:,1]==1]\n",
    "\n",
    "bins = [0,5,10,15,20,25,30,35,40,45,50,100]\n",
    "plt.hist(col0[:,0], bins, density=True, cumulative=False, color='dodgerblue', histtype='bar', label='Non Loop Closure', alpha=0.7)\n",
    "plt.hist(col1[:,0], bins, density=True, cumulative=False, histtype='bar', color='orange', label='Loop Closure', alpha=0.75)\n",
    "plt.xlabel('Inliers Count')\n",
    "plt.ylabel('Density of Frequency')\n",
    "plt.legend()\n",
    "plt.tight_layout()\n",
    "plt.savefig('nordland-loftr-sp-sg-b.pdf', dpi=300, format='pdf', bbox_inches='tight', pad_inches=0.1)"
   ]
  }
 ],
 "metadata": {
  "kernelspec": {
   "display_name": "bench_test",
   "language": "python",
   "name": "python3"
  },
  "language_info": {
   "name": "python",
   "version": "3.8.18"
  },
  "orig_nbformat": 4
 },
 "nbformat": 4,
 "nbformat_minor": 2
}
